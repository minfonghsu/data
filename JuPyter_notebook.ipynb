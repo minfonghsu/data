{
    "cells": [
        {
            "cell_type": "markdown",
            "metadata": {},
            "source": "<h1>My Jupyter Notebook on IBM Data Science Experience<h1>"
        },
        {
            "cell_type": "markdown",
            "metadata": {},
            "source": "**Min Fong Hsu** <br>\nData Scientist"
        },
        {
            "cell_type": "markdown",
            "metadata": {},
            "source": "_I am interested in data science because it is a very lucrative career path which I sense growth in line with my goal of continous improvement._"
        },
        {
            "cell_type": "markdown",
            "metadata": {},
            "source": "<h3> The code below is a simple arithmethic operation of an interger number of 5 multiplied by an integer number of 7 resulting to an interger number of 35 <h3>"
        },
        {
            "cell_type": "code",
            "execution_count": 9,
            "metadata": {},
            "outputs": [
                {
                    "data": {
                        "text/plain": "35"
                    },
                    "execution_count": 9,
                    "metadata": {},
                    "output_type": "execute_result"
                }
            ],
            "source": "5*7"
        },
        {
            "cell_type": "markdown",
            "metadata": {},
            "source": "<blockquote>MIN</blockquote> <br>\n<hr> <br>\n<a>https://www.google.com</a><hr><br>\n<mark>  MIN  </mark>"
        },
        {
            "cell_type": "code",
            "execution_count": null,
            "metadata": {},
            "outputs": [],
            "source": ""
        }
    ],
    "metadata": {
        "kernelspec": {
            "display_name": "Python 3.6",
            "language": "python",
            "name": "python3"
        },
        "language_info": {
            "codemirror_mode": {
                "name": "ipython",
                "version": 3
            },
            "file_extension": ".py",
            "mimetype": "text/x-python",
            "name": "python",
            "nbconvert_exporter": "python",
            "pygments_lexer": "ipython3",
            "version": "3.6.9"
        }
    },
    "nbformat": 4,
    "nbformat_minor": 1
}